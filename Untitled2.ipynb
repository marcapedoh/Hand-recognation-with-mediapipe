{
  "nbformat": 4,
  "nbformat_minor": 0,
  "metadata": {
    "colab": {
      "provenance": [],
      "gpuType": "T4"
    },
    "kernelspec": {
      "name": "python3",
      "display_name": "Python 3"
    },
    "language_info": {
      "name": "python"
    },
    "accelerator": "GPU"
  },
  "cells": [
    {
      "cell_type": "code",
      "execution_count": 2,
      "metadata": {
        "colab": {
          "base_uri": "https://localhost:8080/"
        },
        "id": "BOGlq4hEAQBS",
        "outputId": "b3cca8e0-93d2-4395-943e-dbf630e5f4e2"
      },
      "outputs": [
        {
          "output_type": "stream",
          "name": "stdout",
          "text": [
            "Requirement already satisfied: mediapipe in /usr/local/lib/python3.10/dist-packages (0.10.14)\n",
            "Requirement already satisfied: absl-py in /usr/local/lib/python3.10/dist-packages (from mediapipe) (1.4.0)\n",
            "Requirement already satisfied: attrs>=19.1.0 in /usr/local/lib/python3.10/dist-packages (from mediapipe) (23.2.0)\n",
            "Requirement already satisfied: flatbuffers>=2.0 in /usr/local/lib/python3.10/dist-packages (from mediapipe) (24.3.25)\n",
            "Requirement already satisfied: jax in /usr/local/lib/python3.10/dist-packages (from mediapipe) (0.4.26)\n",
            "Requirement already satisfied: jaxlib in /usr/local/lib/python3.10/dist-packages (from mediapipe) (0.4.26+cuda12.cudnn89)\n",
            "Requirement already satisfied: matplotlib in /usr/local/lib/python3.10/dist-packages (from mediapipe) (3.7.1)\n",
            "Requirement already satisfied: numpy in /usr/local/lib/python3.10/dist-packages (from mediapipe) (1.25.2)\n",
            "Requirement already satisfied: opencv-contrib-python in /usr/local/lib/python3.10/dist-packages (from mediapipe) (4.8.0.76)\n",
            "Requirement already satisfied: protobuf<5,>=4.25.3 in /usr/local/lib/python3.10/dist-packages (from mediapipe) (4.25.3)\n",
            "Requirement already satisfied: sounddevice>=0.4.4 in /usr/local/lib/python3.10/dist-packages (from mediapipe) (0.4.6)\n",
            "Requirement already satisfied: CFFI>=1.0 in /usr/local/lib/python3.10/dist-packages (from sounddevice>=0.4.4->mediapipe) (1.16.0)\n",
            "Requirement already satisfied: ml-dtypes>=0.2.0 in /usr/local/lib/python3.10/dist-packages (from jax->mediapipe) (0.2.0)\n",
            "Requirement already satisfied: opt-einsum in /usr/local/lib/python3.10/dist-packages (from jax->mediapipe) (3.3.0)\n",
            "Requirement already satisfied: scipy>=1.9 in /usr/local/lib/python3.10/dist-packages (from jax->mediapipe) (1.11.4)\n",
            "Requirement already satisfied: contourpy>=1.0.1 in /usr/local/lib/python3.10/dist-packages (from matplotlib->mediapipe) (1.2.1)\n",
            "Requirement already satisfied: cycler>=0.10 in /usr/local/lib/python3.10/dist-packages (from matplotlib->mediapipe) (0.12.1)\n",
            "Requirement already satisfied: fonttools>=4.22.0 in /usr/local/lib/python3.10/dist-packages (from matplotlib->mediapipe) (4.51.0)\n",
            "Requirement already satisfied: kiwisolver>=1.0.1 in /usr/local/lib/python3.10/dist-packages (from matplotlib->mediapipe) (1.4.5)\n",
            "Requirement already satisfied: packaging>=20.0 in /usr/local/lib/python3.10/dist-packages (from matplotlib->mediapipe) (24.0)\n",
            "Requirement already satisfied: pillow>=6.2.0 in /usr/local/lib/python3.10/dist-packages (from matplotlib->mediapipe) (9.4.0)\n",
            "Requirement already satisfied: pyparsing>=2.3.1 in /usr/local/lib/python3.10/dist-packages (from matplotlib->mediapipe) (3.1.2)\n",
            "Requirement already satisfied: python-dateutil>=2.7 in /usr/local/lib/python3.10/dist-packages (from matplotlib->mediapipe) (2.8.2)\n",
            "Requirement already satisfied: pycparser in /usr/local/lib/python3.10/dist-packages (from CFFI>=1.0->sounddevice>=0.4.4->mediapipe) (2.22)\n",
            "Requirement already satisfied: six>=1.5 in /usr/local/lib/python3.10/dist-packages (from python-dateutil>=2.7->matplotlib->mediapipe) (1.16.0)\n"
          ]
        }
      ],
      "source": [
        "pip install mediapipe"
      ]
    },
    {
      "cell_type": "code",
      "source": [
        "pip install opencv-python"
      ],
      "metadata": {
        "colab": {
          "base_uri": "https://localhost:8080/"
        },
        "id": "JeAnXZkKCe5W",
        "outputId": "03fecc3e-b7a6-4763-ad34-7c6c478dd6f4"
      },
      "execution_count": 3,
      "outputs": [
        {
          "output_type": "stream",
          "name": "stdout",
          "text": [
            "Requirement already satisfied: opencv-python in /usr/local/lib/python3.10/dist-packages (4.8.0.76)\n",
            "Requirement already satisfied: numpy>=1.21.2 in /usr/local/lib/python3.10/dist-packages (from opencv-python) (1.25.2)\n"
          ]
        }
      ]
    },
    {
      "cell_type": "code",
      "source": [
        "pip install HandTrackingModule"
      ],
      "metadata": {
        "colab": {
          "base_uri": "https://localhost:8080/"
        },
        "id": "o9bCCKwAI7V4",
        "outputId": "909141ff-d68a-4142-ff1f-eeb41dc0cb3a"
      },
      "execution_count": 4,
      "outputs": [
        {
          "output_type": "stream",
          "name": "stdout",
          "text": [
            "Collecting HandTrackingModule\n",
            "  Downloading HandTrackingModule-0.2-py2.py3-none-any.whl (2.3 kB)\n",
            "Requirement already satisfied: mediapipe in /usr/local/lib/python3.10/dist-packages (from HandTrackingModule) (0.10.14)\n",
            "Requirement already satisfied: numpy in /usr/local/lib/python3.10/dist-packages (from HandTrackingModule) (1.25.2)\n",
            "Requirement already satisfied: opencv-python in /usr/local/lib/python3.10/dist-packages (from HandTrackingModule) (4.8.0.76)\n",
            "Requirement already satisfied: absl-py in /usr/local/lib/python3.10/dist-packages (from mediapipe->HandTrackingModule) (1.4.0)\n",
            "Requirement already satisfied: attrs>=19.1.0 in /usr/local/lib/python3.10/dist-packages (from mediapipe->HandTrackingModule) (23.2.0)\n",
            "Requirement already satisfied: flatbuffers>=2.0 in /usr/local/lib/python3.10/dist-packages (from mediapipe->HandTrackingModule) (24.3.25)\n",
            "Requirement already satisfied: jax in /usr/local/lib/python3.10/dist-packages (from mediapipe->HandTrackingModule) (0.4.26)\n",
            "Requirement already satisfied: jaxlib in /usr/local/lib/python3.10/dist-packages (from mediapipe->HandTrackingModule) (0.4.26+cuda12.cudnn89)\n",
            "Requirement already satisfied: matplotlib in /usr/local/lib/python3.10/dist-packages (from mediapipe->HandTrackingModule) (3.7.1)\n",
            "Requirement already satisfied: opencv-contrib-python in /usr/local/lib/python3.10/dist-packages (from mediapipe->HandTrackingModule) (4.8.0.76)\n",
            "Requirement already satisfied: protobuf<5,>=4.25.3 in /usr/local/lib/python3.10/dist-packages (from mediapipe->HandTrackingModule) (4.25.3)\n",
            "Requirement already satisfied: sounddevice>=0.4.4 in /usr/local/lib/python3.10/dist-packages (from mediapipe->HandTrackingModule) (0.4.6)\n",
            "Requirement already satisfied: CFFI>=1.0 in /usr/local/lib/python3.10/dist-packages (from sounddevice>=0.4.4->mediapipe->HandTrackingModule) (1.16.0)\n",
            "Requirement already satisfied: ml-dtypes>=0.2.0 in /usr/local/lib/python3.10/dist-packages (from jax->mediapipe->HandTrackingModule) (0.2.0)\n",
            "Requirement already satisfied: opt-einsum in /usr/local/lib/python3.10/dist-packages (from jax->mediapipe->HandTrackingModule) (3.3.0)\n",
            "Requirement already satisfied: scipy>=1.9 in /usr/local/lib/python3.10/dist-packages (from jax->mediapipe->HandTrackingModule) (1.11.4)\n",
            "Requirement already satisfied: contourpy>=1.0.1 in /usr/local/lib/python3.10/dist-packages (from matplotlib->mediapipe->HandTrackingModule) (1.2.1)\n",
            "Requirement already satisfied: cycler>=0.10 in /usr/local/lib/python3.10/dist-packages (from matplotlib->mediapipe->HandTrackingModule) (0.12.1)\n",
            "Requirement already satisfied: fonttools>=4.22.0 in /usr/local/lib/python3.10/dist-packages (from matplotlib->mediapipe->HandTrackingModule) (4.51.0)\n",
            "Requirement already satisfied: kiwisolver>=1.0.1 in /usr/local/lib/python3.10/dist-packages (from matplotlib->mediapipe->HandTrackingModule) (1.4.5)\n",
            "Requirement already satisfied: packaging>=20.0 in /usr/local/lib/python3.10/dist-packages (from matplotlib->mediapipe->HandTrackingModule) (24.0)\n",
            "Requirement already satisfied: pillow>=6.2.0 in /usr/local/lib/python3.10/dist-packages (from matplotlib->mediapipe->HandTrackingModule) (9.4.0)\n",
            "Requirement already satisfied: pyparsing>=2.3.1 in /usr/local/lib/python3.10/dist-packages (from matplotlib->mediapipe->HandTrackingModule) (3.1.2)\n",
            "Requirement already satisfied: python-dateutil>=2.7 in /usr/local/lib/python3.10/dist-packages (from matplotlib->mediapipe->HandTrackingModule) (2.8.2)\n",
            "Requirement already satisfied: pycparser in /usr/local/lib/python3.10/dist-packages (from CFFI>=1.0->sounddevice>=0.4.4->mediapipe->HandTrackingModule) (2.22)\n",
            "Requirement already satisfied: six>=1.5 in /usr/local/lib/python3.10/dist-packages (from python-dateutil>=2.7->matplotlib->mediapipe->HandTrackingModule) (1.16.0)\n",
            "Installing collected packages: HandTrackingModule\n",
            "Successfully installed HandTrackingModule-0.2\n"
          ]
        }
      ]
    },
    {
      "cell_type": "code",
      "source": [
        "import cv2\n",
        "import mediapipe as mp\n",
        "import time\n",
        "import math\n",
        "\n",
        "class handDetector():\n",
        "    def __init__(self, mode=False, maxHands=2, detectionCon=0.5, trackCon=0.5):\n",
        "        self.mode = mode\n",
        "        self.maxHands = maxHands\n",
        "        self.detectionCon = detectionCon\n",
        "        self.trackCon = trackCon\n",
        "\n",
        "        self.mpHands = mp.solutions.hands\n",
        "        self.hands = self.mpHands.Hands(static_image_mode=self.mode,\n",
        "                                        max_num_hands=self.maxHands,\n",
        "                                        min_detection_confidence=self.detectionCon,\n",
        "                                        min_tracking_confidence=self.trackCon)\n",
        "        self.mpDraw = mp.solutions.drawing_utils\n",
        "        self.results = None\n",
        "\n",
        "    def findHands(self, img, draw=True):\n",
        "        if img is None or img.size == 0:\n",
        "            print(\"Empty image passed to findHands.\")\n",
        "            return img\n",
        "\n",
        "        imgRGB = cv2.cvtColor(img, cv2.COLOR_BGR2RGB)\n",
        "        self.results = self.hands.process(imgRGB)\n",
        "\n",
        "        if self.results.multi_hand_landmarks:\n",
        "            for handLms in self.results.multi_hand_landmarks:\n",
        "                if draw:\n",
        "                    self.mpDraw.draw_landmarks(img, handLms, self.mpHands.HAND_CONNECTIONS)\n",
        "        return img\n",
        "\n",
        "    def findPosition(self, img, handNo=0, draw=True):\n",
        "        xList = []\n",
        "        yList = []\n",
        "        bbox = []\n",
        "        self.lmList = []\n",
        "        if self.results and self.results.multi_hand_landmarks:\n",
        "            myHand = self.results.multi_hand_landmarks[handNo]\n",
        "            for id, lm in enumerate(myHand.landmark):\n",
        "                h, w, c = img.shape\n",
        "                cx, cy = int(lm.x * w), int(lm.y * h)\n",
        "                xList.append(cx)\n",
        "                yList.append(cy)\n",
        "                self.lmList.append([id, cx, cy])\n",
        "                if draw:\n",
        "                    cv2.circle(img, (cx, cy), 5, (255, 0, 255), cv2.FILLED)\n",
        "            xmin, xmax = min(xList), max(xList)\n",
        "            ymin, ymax = min(yList), max(yList)\n",
        "            bbox = xmin, ymin, xmax, ymax\n",
        "\n",
        "            if draw:\n",
        "                cv2.rectangle(img, (bbox[0] - 20, bbox[1] - 20),\n",
        "                              (bbox[2] + 20, bbox[3] + 20), (0, 255, 0), 2)\n",
        "        return self.lmList, bbox\n",
        "\n",
        "\n",
        "    def fingersUp(self):\n",
        "        fingers = []\n",
        "        # Thumb\n",
        "        if self.lmList[self.tipIds[0]][1] > self.lmList[self.tipIds[0] - 1][1]:\n",
        "            fingers.append(1)\n",
        "        else:\n",
        "            fingers.append(0)\n",
        "        # 4 Fingers\n",
        "        for id in range(1, 5):\n",
        "            if self.lmList[self.tipIds[id]][2] < self.lmList[self.tipIds[id] - 2][2]:\n",
        "                fingers.append(1)\n",
        "            else:\n",
        "                fingers.append(0)\n",
        "        return fingers\n",
        "\n",
        "    def findDistance(self, p1, p2, img, draw=True):\n",
        "\n",
        "        x1, y1 = self.lmList[p1][1], self.lmList[p1][2]\n",
        "        x2, y2 = self.lmList[p2][1], self.lmList[p2][2]\n",
        "        cx, cy = (x1 + x2) // 2, (y1 + y2) // 2\n",
        "\n",
        "        if draw:\n",
        "            cv2.circle(img, (x1, y1), 15, (255, 0, 255), cv2.FILLED)\n",
        "            cv2.circle(img, (x2, y2), 15, (255, 0, 255), cv2.FILLED)\n",
        "            cv2.line(img, (x1, y1), (x2, y2), (255, 0, 255), 3)\n",
        "            cv2.circle(img, (cx, cy), 15, (255, 0, 255), cv2.FILLED)\n",
        "\n",
        "        length = math.hypot(x2 - x1, y2 - y1)\n",
        "        return length, img, [x1, y1, x2, y2, cx, cy]\n",
        "\n",
        "def main():\n",
        "    pTime = 0\n",
        "    cTime = 0\n",
        "    cap = cv2.VideoCapture(0)\n",
        "    detector = handDetector()\n",
        "\n",
        "    while True:\n",
        "        success, img = cap.read()\n",
        "        if not success:\n",
        "            print(\"Failed to capture image\")\n",
        "            break\n",
        "\n",
        "        img = detector.findHands(img)\n",
        "        lmList, bbox = detector.findPosition(img)\n",
        "\n",
        "        # Assurez-vous que lmList contient au moins 5 éléments\n",
        "        if len(lmList) > 4:\n",
        "            print(lmList[4])\n",
        "\n",
        "        cTime = time.time()\n",
        "        fps = 1 / (cTime - pTime)\n",
        "        pTime = cTime\n",
        "\n",
        "        cv2.putText(img, str(int(fps)), (10, 70), cv2.FONT_HERSHEY_PLAIN, 3,\n",
        "                    (255, 0, 255), 3)\n",
        "\n",
        "        cv2.imshow(\"Image\", img)\n",
        "        if cv2.waitKey(1) & 0xFF == ord('q'):\n",
        "            break\n",
        "\n",
        "    cap.release()\n",
        "    cv2.destroyAllWindows()\n",
        "\n",
        "if __name__ == \"__main__\":\n",
        "    main()"
      ],
      "metadata": {
        "colab": {
          "base_uri": "https://localhost:8080/"
        },
        "id": "6klaaZIXJAhM",
        "outputId": "dc89c8dd-bcc5-4da6-d2bb-57a43cfad0fd"
      },
      "execution_count": 12,
      "outputs": [
        {
          "output_type": "stream",
          "name": "stdout",
          "text": [
            "Failed to capture image\n"
          ]
        }
      ]
    },
    {
      "cell_type": "code",
      "source": [
        "import cv2\n",
        "import time\n",
        "from google.colab.patches import cv2_imshow\n",
        "\n",
        "wCam, hCam= 640,480\n",
        "\n",
        "capture=cv2.VideoCapture(0)\n",
        "capture.set(3,wCam);\n",
        "capture.set(4, hCam)\n",
        "\n",
        "hand_detection = handDetector(detectionCon=0.75)\n",
        "while True:\n",
        "  success, img=capture.read()\n",
        "  img= hand_detection.findHands(img,draw=True)\n",
        "  hands= hand_detection.findPosition(img, draw=False )\n",
        "  # Convertir l'image en format uint8\n",
        "  img_display = cv2.cvtColor(img, cv2.COLOR_BGR2RGB).astype('uint8')\n",
        "  cv2_imshow(img_display)\n",
        "  cv2.waitKey(1)\n",
        ""
      ],
      "metadata": {
        "colab": {
          "base_uri": "https://localhost:8080/",
          "height": 255
        },
        "id": "6Xis--gVObd4",
        "outputId": "7e90de00-9d53-4be4-ad87-31cfe52788a2"
      },
      "execution_count": 29,
      "outputs": [
        {
          "output_type": "stream",
          "name": "stdout",
          "text": [
            "Empty image passed to findHands.\n"
          ]
        },
        {
          "output_type": "error",
          "ename": "error",
          "evalue": "OpenCV(4.8.0) /io/opencv/modules/imgproc/src/color.cpp:182: error: (-215:Assertion failed) !_src.empty() in function 'cvtColor'\n",
          "traceback": [
            "\u001b[0;31m---------------------------------------------------------------------------\u001b[0m",
            "\u001b[0;31merror\u001b[0m                                     Traceback (most recent call last)",
            "\u001b[0;32m<ipython-input-29-0212371fc255>\u001b[0m in \u001b[0;36m<cell line: 12>\u001b[0;34m()\u001b[0m\n\u001b[1;32m     15\u001b[0m   \u001b[0mhands\u001b[0m\u001b[0;34m=\u001b[0m \u001b[0mhand_detection\u001b[0m\u001b[0;34m.\u001b[0m\u001b[0mfindPosition\u001b[0m\u001b[0;34m(\u001b[0m\u001b[0mimg\u001b[0m\u001b[0;34m,\u001b[0m \u001b[0mdraw\u001b[0m\u001b[0;34m=\u001b[0m\u001b[0;32mFalse\u001b[0m \u001b[0;34m)\u001b[0m\u001b[0;34m\u001b[0m\u001b[0;34m\u001b[0m\u001b[0m\n\u001b[1;32m     16\u001b[0m   \u001b[0;31m# Convertir l'image en format uint8\u001b[0m\u001b[0;34m\u001b[0m\u001b[0;34m\u001b[0m\u001b[0m\n\u001b[0;32m---> 17\u001b[0;31m   \u001b[0mimg_display\u001b[0m \u001b[0;34m=\u001b[0m \u001b[0mcv2\u001b[0m\u001b[0;34m.\u001b[0m\u001b[0mcvtColor\u001b[0m\u001b[0;34m(\u001b[0m\u001b[0mimg\u001b[0m\u001b[0;34m,\u001b[0m \u001b[0mcv2\u001b[0m\u001b[0;34m.\u001b[0m\u001b[0mCOLOR_BGR2RGB\u001b[0m\u001b[0;34m)\u001b[0m\u001b[0;34m.\u001b[0m\u001b[0mastype\u001b[0m\u001b[0;34m(\u001b[0m\u001b[0;34m'uint8'\u001b[0m\u001b[0;34m)\u001b[0m\u001b[0;34m\u001b[0m\u001b[0;34m\u001b[0m\u001b[0m\n\u001b[0m\u001b[1;32m     18\u001b[0m   \u001b[0mcv2_imshow\u001b[0m\u001b[0;34m(\u001b[0m\u001b[0mimg_display\u001b[0m\u001b[0;34m)\u001b[0m\u001b[0;34m\u001b[0m\u001b[0;34m\u001b[0m\u001b[0m\n\u001b[1;32m     19\u001b[0m   \u001b[0mcv2\u001b[0m\u001b[0;34m.\u001b[0m\u001b[0mwaitKey\u001b[0m\u001b[0;34m(\u001b[0m\u001b[0;36m1\u001b[0m\u001b[0;34m)\u001b[0m\u001b[0;34m\u001b[0m\u001b[0;34m\u001b[0m\u001b[0m\n",
            "\u001b[0;31merror\u001b[0m: OpenCV(4.8.0) /io/opencv/modules/imgproc/src/color.cpp:182: error: (-215:Assertion failed) !_src.empty() in function 'cvtColor'\n"
          ]
        }
      ]
    },
    {
      "cell_type": "code",
      "source": [],
      "metadata": {
        "id": "rh8Mu8PJXCBe"
      },
      "execution_count": null,
      "outputs": []
    }
  ]
}